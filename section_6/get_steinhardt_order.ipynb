{
 "cells": [
  {
   "cell_type": "markdown",
   "metadata": {},
   "source": [
    "Import dependencies"
   ]
  },
  {
   "cell_type": "code",
   "execution_count": null,
   "metadata": {},
   "outputs": [],
   "source": [
    "import numpy as np\n",
    "import freud\n",
    "from ase.io import read\n",
    "import matplotlib.pyplot as plt\n",
    "from sklearn.neighbors import KernelDensity\n",
    "from tqdm import tqdm"
   ]
  },
  {
   "cell_type": "code",
   "execution_count": null,
   "metadata": {},
   "outputs": [],
   "source": [
    "def get_order(frames, order_parameter_degree, r_max):\n",
    "\n",
    "    \"\"\" returns  the order parameter for a list of frames, \n",
    "\n",
    "    returns bins and the kernel density estimate of the order parameter\n",
    "\n",
    "    Parameters\n",
    "    ----------\n",
    "    frames : list of ase.Atoms objects\n",
    "        List of frames to compute the order parameter for\n",
    "    order_parameter_degree : int\n",
    "        The degree of the order parameter to compute\n",
    "    r_max : float\n",
    "        Maximum radius to consider for neighbors\n",
    "        ie. the cutoff chosen in the deepCG paper is 3.4\n",
    "    \n",
    "    #IMPORTANT: nans are replaced with 0.0\n",
    "    effectively removing them from the data\n",
    "    \"\"\"\n",
    "\n",
    "    q_values = []\n",
    "\n",
    "# Loop through each frame\n",
    "    for frame in tqdm(frames):\n",
    "        frame.wrap()\n",
    "        ql = freud.order.Steinhardt(order_parameter_degree, average=True)\n",
    "\n",
    "        positions = frame.get_positions()\n",
    "        box_size = frame.get_cell().lengths()\n",
    "        box = freud.box.Box(Lx=box_size[0], Ly=box_size[1], Lz=box_size[2])\n",
    "        \n",
    "        # Compute the local ql for each particle\n",
    "        ql.compute((box, positions), {'r_max':r_max})\n",
    "        q_values.append(ql.particle_order)\n",
    "    \n",
    "    N = 100\n",
    "    bins = np.linspace(\n",
    "        0.,\n",
    "        0.5,\n",
    "        N,\n",
    "    )\n",
    "\n",
    "    kde = KernelDensity(bandwidth=0.004)\n",
    "\n",
    "    vals = np.hstack(q_values).flatten()[:, np.newaxis]\n",
    "\n",
    "    # from the Freud documentation:\n",
    "    # =============================\n",
    "    # The value of per-particle order parameter\n",
    "    # will be set to NaN for particles with no neighbors.\n",
    "    # We choose this value rather than setting the order parameter to 0\n",
    "    # because in more complex order parameter calculations (such as when computing the ),\n",
    "    # it is possible to observe a value of 0 for the per-particle order parameter\n",
    "    # even with a finite number of neighbors. \n",
    "    # If you would like to ignore this distinction,\n",
    "    # you can mask the output order parameter \n",
    "    # values using NumPy: numpy.nan_to_num(particle_order).\n",
    "    \n",
    "    vals = np.nan_to_num(vals, nan=0.0)\n",
    "\n",
    "    kde.fit(vals)\n",
    "    ql_proj = np.exp(kde.score_samples(bins[:, np.newaxis]))\n",
    "\n",
    "\n",
    "    return ql_proj, bins"
   ]
  },
  {
   "cell_type": "markdown",
   "metadata": {},
   "source": [
    "Load frames"
   ]
  },
  {
   "cell_type": "code",
   "execution_count": null,
   "metadata": {},
   "outputs": [],
   "source": [
    "frames_0_50 = read(\"/scratch/chong/section5_results/50_0/test.xyz\", \":\")\n",
    "frames_1_50 = read(\"/scratch/chong/section5_results/50_1/test.xyz\", \":\")\n",
    "frames_2_50 = read(\"/scratch/chong/section5_results/50_2/test.xyz\", \":\")\n",
    "frames_3_50 = read(\"/scratch/chong/section5_results/50_3/test.xyz\", \":\")\n",
    "\n",
    "frames_0_100 = read(\"/scratch/chong/section5_results/100_0/test.xyz\", \":\")\n",
    "frames_1_100 = read(\"/scratch/chong/section5_results/100_1/test.xyz\", \":\")\n",
    "frames_2_100 = read(\"/scratch/chong/section5_results/100_2/test.xyz\", \":\")\n",
    "frames_3_100 = read(\"/scratch/chong/section5_results/100_3/test.xyz\", \":\")\n",
    "\n",
    "frames_0_1k = read(\"/scratch/chong/section5_results/1k_0/test.xyz\", \":\")\n",
    "frames_1_1k = read(\"/scratch/chong/section5_results/1k_1/test_new.xyz\", \":\")\n",
    "frames_2_1k = read(\"/scratch/chong/section5_results/1k_2/test.xyz\", \":\")\n",
    "frames_3_1k = read(\"/scratch/chong/section5_results/1k_3/test.xyz\", \":\")\n",
    "\n",
    "frames_0_10k = read(\"/scratch/chong/section5_results/10k_0/test.xyz\", \":\")\n",
    "frames_1_10k = read(\"/scratch/chong/section5_results/10k_1/test.xyz\", \":\")\n",
    "frames_2_10k = read(\"/scratch/chong/section5_results/10k_2/test.xyz\", \":\")\n",
    "frames_3_10k = read(\"/scratch/chong/section5_results/10k_3/test.xyz\", \":\")\n"
   ]
  },
  {
   "cell_type": "markdown",
   "metadata": {},
   "source": [
    "Compute order parameters"
   ]
  },
  {
   "cell_type": "code",
   "execution_count": null,
   "metadata": {},
   "outputs": [],
   "source": [
    "orig_frames = read('/home/chong/CG_water.xyz', index=':')\n",
    "ql4_orig, bins = get_order(orig_frames, 4, 3.6)\n",
    "ql6_orig, bins = get_order(orig_frames, 6, 3.6)\n",
    "\n",
    "ql4_50_list = []\n",
    "ql6_50_list = []\n",
    "for frames in [frames_0_50, frames_1_50, frames_2_50, frames_3_50]:\n",
    "    ql4, bins = get_order(frames, 4, 3.6)\n",
    "    ql6, bins = get_order(frames, 6, 3.6)\n",
    "    ql4_50_list.append(ql4)\n",
    "    ql6_50_list.append(ql6)\n",
    "\n",
    "ql4_100_list = []\n",
    "ql6_100_list = []\n",
    "for frames in [frames_0_100, frames_1_100, frames_2_100, frames_3_100]:\n",
    "    ql4, bins = get_order(frames, 4, 3.6)\n",
    "    ql6, bins = get_order(frames, 6, 3.6)\n",
    "    ql4_100_list.append(ql4)\n",
    "    ql6_100_list.append(ql6)\n",
    "    \n",
    "ql4_1k_list = []\n",
    "ql6_1k_list = []\n",
    "for frames in [frames_0_1k, frames_1_1k, frames_2_1k, frames_3_1k]:\n",
    "    ql4, bins = get_order(frames, 4, 3.6)\n",
    "    ql6, bins = get_order(frames, 6, 3.6)\n",
    "    ql4_1k_list.append(ql4)\n",
    "    ql6_1k_list.append(ql6)\n",
    "\n",
    "ql4_10k_list = []\n",
    "ql6_10k_list = []\n",
    "for frames in [frames_0_10k, frames_1_10k, frames_2_10k, frames_3_10k]:\n",
    "    ql4, bins = get_order(frames, 4, 3.6)\n",
    "    ql6, bins = get_order(frames, 6, 3.6)\n",
    "    ql4_10k_list.append(ql4)\n",
    "    ql6_10k_list.append(ql6)"
   ]
  },
  {
   "cell_type": "code",
   "execution_count": null,
   "metadata": {},
   "outputs": [],
   "source": [
    "np.save(\"steinhardt_results/ql4_50.npy\", np.array(ql4_50_list))\n",
    "np.save(\"steinhardt_results/ql4_100.npy\", np.array(ql4_100_list))\n",
    "np.save(\"steinhardt_results/ql4_1k.npy\", np.array(ql4_1k_list))\n",
    "np.save(\"steinhardt_results/ql4_10k.npy\", np.array(ql4_10k_list))"
   ]
  },
  {
   "cell_type": "code",
   "execution_count": null,
   "metadata": {},
   "outputs": [],
   "source": [
    "np.save(\"steinhardt_results/ql6_50.npy\", np.array(ql6_50_list))\n",
    "np.save(\"steinhardt_results/ql6_100.npy\", np.array(ql6_100_list))\n",
    "np.save(\"steinhardt_results/ql6_1k.npy\", np.array(ql6_1k_list))\n",
    "np.save(\"steinhardt_results/ql6_10k.npy\", np.array(ql6_10k_list))"
   ]
  }
 ],
 "metadata": {
  "kernelspec": {
   "display_name": "coarse_install_3",
   "language": "python",
   "name": "python3"
  },
  "language_info": {
   "codemirror_mode": {
    "name": "ipython",
    "version": 3
   },
   "file_extension": ".py",
   "mimetype": "text/x-python",
   "name": "python",
   "nbconvert_exporter": "python",
   "pygments_lexer": "ipython3",
   "version": "3.12.2"
  }
 },
 "nbformat": 4,
 "nbformat_minor": 2
}
