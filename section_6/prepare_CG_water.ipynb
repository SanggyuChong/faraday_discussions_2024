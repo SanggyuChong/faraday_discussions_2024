{
 "cells": [
  {
   "cell_type": "code",
   "execution_count": 1,
   "metadata": {},
   "outputs": [],
   "source": [
    "from ase.io import read, write\n",
    "import ase\n",
    "import numpy as np\n",
    "import chemiscope\n",
    "import random\n",
    "import matplotlib.pyplot as plt\n",
    "\n",
    "from tqdm import tqdm"
   ]
  },
  {
   "cell_type": "code",
   "execution_count": 2,
   "metadata": {},
   "outputs": [],
   "source": [
    "frames = read(\"/home/chong/water.xyz\", \":50000\")"
   ]
  },
  {
   "cell_type": "code",
   "execution_count": 3,
   "metadata": {},
   "outputs": [
    {
     "name": "stderr",
     "output_type": "stream",
     "text": [
      "100%|██████████| 50000/50000 [13:34<00:00, 61.39it/s]\n"
     ]
    }
   ],
   "source": [
    "\n",
    "cg_frames = []\n",
    "num_water_per_cell = 128\n",
    "mol_idx = np.arange(num_water_per_cell + 1) * 3\n",
    "\n",
    "for f in tqdm(frames):\n",
    "    cg_frame_pos = []\n",
    "    cg_frame_forces = []\n",
    "    for i in range(num_water_per_cell):\n",
    "\n",
    "        # define ase.Atoms object with one molecule\n",
    "        cur_mol = f[mol_idx[i]:mol_idx[i+1]]\n",
    "\n",
    "        # relocate molecule to cell center and wrap\n",
    "        cell_center = cur_mol.cell.cellpar()[:3] / 2\n",
    "        O_center_vec = cell_center - cur_mol.positions[0]\n",
    "        cur_mol.positions += O_center_vec\n",
    "        cur_mol.wrap()\n",
    "\n",
    "        # obtain center of mass from cell center, cast \n",
    "        # it back to original position of the molecule\n",
    "        cg_frame_pos.append(\n",
    "            cur_mol.get_center_of_mass() - O_center_vec\n",
    "        )\n",
    "\n",
    "        # save the summed forces (NOISE!)\n",
    "        cg_frame_forces.append(\n",
    "            np.sum(cur_mol.arrays['forces'], axis=0)\n",
    "        )\n",
    "    cg_frame_pos = np.vstack(cg_frame_pos)\n",
    "    cg_frame_forces = np.vstack(cg_frame_forces)\n",
    "\n",
    "    # sav CG frame\n",
    "    cur_cg_frame = ase.Atoms(\n",
    "            \"X128\",\n",
    "            positions = cg_frame_pos,\n",
    "            cell = f.cell,\n",
    "            pbc = f.pbc,\n",
    "    )\n",
    "    cur_cg_frame.arrays['forces'] = cg_frame_forces\n",
    "    cg_frames.append(cur_cg_frame)"
   ]
  },
  {
   "cell_type": "code",
   "execution_count": 5,
   "metadata": {},
   "outputs": [],
   "source": [
    "write(\"/home/chong/CG_water.xyz\", cg_frames)"
   ]
  },
  {
   "cell_type": "code",
   "execution_count": null,
   "metadata": {},
   "outputs": [],
   "source": [
    "frames = read(\"/home/chong/CG_water.xyz\", \":\")\n",
    "\n",
    "random.seed(20240406)\n",
    "random.shuffle(cg_frames)"
   ]
  },
  {
   "cell_type": "code",
   "execution_count": 6,
   "metadata": {},
   "outputs": [],
   "source": [
    "subs = np.arange(4)\n",
    "\n",
    "for sub in subs:\n",
    "    write(f\"/home/chong/CG_water_train_50_{sub}.xyz\", cg_frames[sub*50:(sub+1)*50])\n",
    "for sub in subs:\n",
    "    write(f\"/home/chong/CG_water_train_100_{sub}.xyz\", cg_frames[sub*100:(sub+1)*100])\n",
    "for sub in subs:\n",
    "    write(f\"/home/chong/CG_water_train_1k_{sub}.xyz\", cg_frames[sub*1000:(sub+1)*1000])\n",
    "for sub in subs:\n",
    "    write(f\"/home/chong/CG_water_train_10k_{sub}.xyz\", cg_frames[sub*10000:(sub+1)*10000])\n",
    "\n",
    "write(\"/home/chong/CG_water_val_1k.xyz\", cg_frames[40000:41000])\n",
    "write(\"/home/chong/CG_water_test_1k.xyz\", cg_frames[41000:42000])"
   ]
  },
  {
   "cell_type": "code",
   "execution_count": null,
   "metadata": {},
   "outputs": [],
   "source": [
    "plt.hist(np.array([f.arrays['forces'] for f in frames[200000:205000]]).flatten(), bins=200);\n",
    "np.sqrt(np.mean(np.power(np.array([f.arrays['forces'] for f in frames]).flatten(), 2)))"
   ]
  },
  {
   "cell_type": "code",
   "execution_count": null,
   "metadata": {},
   "outputs": [],
   "source": []
  }
 ],
 "metadata": {
  "kernelspec": {
   "display_name": "farad",
   "language": "python",
   "name": "python3"
  },
  "language_info": {
   "codemirror_mode": {
    "name": "ipython",
    "version": 3
   },
   "file_extension": ".py",
   "mimetype": "text/x-python",
   "name": "python",
   "nbconvert_exporter": "python",
   "pygments_lexer": "ipython3",
   "version": "3.12.2"
  }
 },
 "nbformat": 4,
 "nbformat_minor": 2
}
