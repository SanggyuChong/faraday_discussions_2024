{
 "cells": [
  {
   "cell_type": "code",
   "execution_count": null,
   "metadata": {},
   "outputs": [],
   "source": [
    "import numpy as np\n",
    "import matplotlib.pyplot as plt\n",
    "\n",
    "import MDAnalysis as mda\n",
    "from MDAnalysis.analysis.base import Results\n",
    "from MDAnalysis.analysis.rdf import InterRDF\n",
    "from MDAnalysis.transformations.boxdimensions import set_dimensions\n",
    "\n",
    "import ase.io"
   ]
  },
  {
   "cell_type": "code",
   "execution_count": null,
   "metadata": {},
   "outputs": [],
   "source": [
    "#keep mda version '2.2.0'.\n",
    "mda.__version__"
   ]
  },
  {
   "cell_type": "code",
   "execution_count": null,
   "metadata": {},
   "outputs": [],
   "source": [
    "def compute_rdf(XYZ_TRAJ_NAME):\n",
    "\n",
    "    start = ase.io.read(XYZ_TRAJ_NAME,\"0\")\n",
    "\n",
    "    universe_params = dict(format=\"Chemfiles\", topology_format=\"XYZ\")\n",
    "\n",
    "    results = Results()\n",
    "    results.ml = Results()\n",
    "    results.ml.u = mda.Universe(XYZ_TRAJ_NAME, **universe_params)\n",
    "\n",
    "\n",
    "    results.ml.u.trajectory.add_transformations(\n",
    "        set_dimensions(start.get_cell_lengths_and_angles())\n",
    "    )\n",
    "\n",
    "    results.ml.start = 0\n",
    "    results.ml.stop = -1\n",
    "\n",
    "    #do 200 bins from 0 to 6 angstroms\n",
    "    params = {\"nbins\": 200, \"range\": (0, 6)}\n",
    "\n",
    "    # select species X\n",
    "    O = results.ml.u.select_atoms(\"name X*\")\n",
    "    rdf_OO = InterRDF(O, O, **params, exclude_same=\"residue\")\n",
    "\n",
    "    # compute the RDF in steps of 10\n",
    "    # starting from first to last\n",
    "    rdf_OO.run(start=0, stop=-1,step=10)\n",
    "\n",
    "\n",
    "    #returns numpy arrays of grid and rdf \n",
    "    # 1st bin still contains \"self correlation\" so we do not plot it \n",
    "    return rdf_OO.bins[1:], rdf_OO.rdf[1:]\n",
    "    "
   ]
  },
  {
   "cell_type": "code",
   "execution_count": null,
   "metadata": {},
   "outputs": [],
   "source": [
    "\n",
    "grid1_50, rdf_vals1_50 = compute_rdf(\"/scratch/chong/section5_results/50_0/test.xyz\")\n",
    "grid2_50, rdf_vals2_50 = compute_rdf(\"/scratch/chong/section5_results/50_1/test.xyz\")\n",
    "grid3_50, rdf_vals3_50 = compute_rdf(\"/scratch/chong/section5_results/50_2/test.xyz\")\n",
    "grid4_50, rdf_vals4_50 = compute_rdf(\"/scratch/chong/section5_results/50_3/test.xyz\")\n",
    "\n",
    "grid1_100, rdf_vals1_100 = compute_rdf(\"/scratch/chong/section5_results/100_0/test.xyz\")\n",
    "grid2_100, rdf_vals2_100 = compute_rdf(\"/scratch/chong/section5_results/100_1/test.xyz\")\n",
    "grid3_100, rdf_vals3_100 = compute_rdf(\"/scratch/chong/section5_results/100_2/test.xyz\")\n",
    "grid4_100, rdf_vals4_100 = compute_rdf(\"/scratch/chong/section5_results/100_3/test.xyz\")\n",
    "\n",
    "grid1_1k, rdf_vals1_1k = compute_rdf(\"/scratch/chong/section5_results/1k_0/test.xyz\")\n",
    "grid2_1k, rdf_vals2_1k = compute_rdf(\"/scratch/chong/section5_results/1k_1/test_new.xyz\")\n",
    "grid3_1k, rdf_vals3_1k = compute_rdf(\"/scratch/chong/section5_results/1k_2/test.xyz\")\n",
    "grid4_1k, rdf_vals4_1k = compute_rdf(\"/scratch/chong/section5_results/1k_3/test.xyz\")\n",
    "\n",
    "grid1_10k, rdf_vals1_10k = compute_rdf(\"/scratch/chong/section5_results/10k_0/test.xyz\")\n",
    "grid2_10k, rdf_vals2_10k = compute_rdf(\"/scratch/chong/section5_results/10k_1/test.xyz\")\n",
    "grid3_10k, rdf_vals3_10k = compute_rdf(\"/scratch/chong/section5_results/10k_2/test.xyz\")\n",
    "grid4_10k, rdf_vals4_10k = compute_rdf(\"/scratch/chong/section5_results/10k_3/test.xyz\")"
   ]
  },
  {
   "cell_type": "code",
   "execution_count": null,
   "metadata": {},
   "outputs": [],
   "source": [
    "\n",
    "grid_ref, rdf_ref = compute_rdf(\"/home/chong/CG_water.xyz\")"
   ]
  }
 ],
 "metadata": {
  "kernelspec": {
   "display_name": "MDAnalysis",
   "language": "python",
   "name": "python3"
  },
  "language_info": {
   "codemirror_mode": {
    "name": "ipython",
    "version": 3
   },
   "file_extension": ".py",
   "mimetype": "text/x-python",
   "name": "python",
   "nbconvert_exporter": "python",
   "pygments_lexer": "ipython3",
   "version": "3.8.0"
  }
 },
 "nbformat": 4,
 "nbformat_minor": 2
}
