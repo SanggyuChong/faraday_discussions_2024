{
 "cells": [
  {
   "cell_type": "code",
   "execution_count": null,
   "metadata": {},
   "outputs": [],
   "source": [
    "import numpy as np\n",
    "import torch\n",
    "import torch.nn.functional\n",
    "from mace import data, modules, tools\n",
    "from mace.tools import torch_geometric\n",
    "import matplotlib.pyplot as plt\n",
    "torch.set_default_dtype(torch.float64)\n",
    "device = tools.init_device('cuda')"
   ]
  },
  {
   "cell_type": "code",
   "execution_count": null,
   "metadata": {},
   "outputs": [],
   "source": [
    "mace = torch.load('50_0/CG_water.model').to('cuda')\n",
    "mace_llpr = modules.LLPRModel(mace)\n",
    "mace_llpr.to(device)"
   ]
  },
  {
   "cell_type": "code",
   "execution_count": null,
   "metadata": {},
   "outputs": [],
   "source": [
    "stats = {\"atomic_numbers\": [0],\n",
    "         \"r_max\": 6.0}\n",
    "config_type_weights = {\"Default\": 1.0}\n",
    "z_table = tools.get_atomic_number_table_from_zs(stats['atomic_numbers'])"
   ]
  },
  {
   "cell_type": "code",
   "execution_count": null,
   "metadata": {},
   "outputs": [],
   "source": [
    "from mace.tools.scripts_utils import get_dataset_from_xyz\n",
    "collections, atomic_energies_dict = get_dataset_from_xyz(\n",
    "    train_path=\"50_0/CG_water_train_50_0.xyz\",\n",
    "    valid_path=\"50_0/CG_water_val_1k.xyz\",\n",
    "    test_path=\"50_0/CG_water_test_1k.xyz\",\n",
    "    valid_fraction=0,\n",
    "    config_type_weights=config_type_weights,\n",
    ")"
   ]
  },
  {
   "cell_type": "code",
   "execution_count": null,
   "metadata": {},
   "outputs": [],
   "source": [
    "train_loader = torch_geometric.dataloader.DataLoader(\n",
    "    dataset=[\n",
    "        data.AtomicData.from_config(config, z_table=z_table, cutoff=stats['r_max'])\n",
    "        for config in collections.train\n",
    "    ],\n",
    "    batch_size=10,\n",
    "    shuffle=False,\n",
    "    drop_last=False,\n",
    ")\n",
    "\n",
    "valid_loader = torch_geometric.dataloader.DataLoader(\n",
    "    dataset=[\n",
    "        data.AtomicData.from_config(config, z_table=z_table, cutoff=stats['r_max'])\n",
    "        for config in collections.valid\n",
    "    ],\n",
    "    batch_size=10,\n",
    "    shuffle=False,\n",
    "    drop_last=False,\n",
    ")\n",
    "\n",
    "test_loader = torch_geometric.dataloader.DataLoader(\n",
    "    dataset=[\n",
    "        data.AtomicData.from_config(config, z_table=z_table, cutoff=stats['r_max'])\n",
    "        for config in collections.tests[0][1]\n",
    "    ],\n",
    "    batch_size=1, # keep as 1 for later!\n",
    "    shuffle=False,\n",
    "    drop_last=False,\n",
    ")"
   ]
  },
  {
   "cell_type": "code",
   "execution_count": null,
   "metadata": {},
   "outputs": [],
   "source": [
    "\n",
    "mace_llpr.compute_covariance(\n",
    "    train_loader,\n",
    "    include_energy=False,\n",
    "    include_forces=True,\n",
    ")\n"
   ]
  },
  {
   "cell_type": "code",
   "execution_count": null,
   "metadata": {},
   "outputs": [],
   "source": [
    "mace_llpr.compute_inv_covariance(C = 1, sigma = 5e-6)"
   ]
  },
  {
   "cell_type": "code",
   "execution_count": null,
   "metadata": {},
   "outputs": [],
   "source": [
    "import tqdm\n",
    "PRs = []\n",
    "LPRs = []\n",
    "for batch in tqdm.tqdm(test_loader):\n",
    "    batch.to(mace_llpr.covariance.device)\n",
    "    cur_llfeats = mace_llpr(batch, save_atomic_llfeats = True)['atomic_llfeats']\n",
    "\n",
    "    cur_LPRs = 1 / torch.einsum(\"ij, jk, ik -> i\",\n",
    "        cur_llfeats,\n",
    "        mace_llpr.inv_covariance,\n",
    "        cur_llfeats,\n",
    "    )\n",
    "\n",
    "    LPRs.append(cur_LPRs)\n",
    "\n",
    "    struc_llfeats = cur_llfeats.mean(axis=0).unsqueeze(0)\n",
    "\n",
    "    cur_PR = 1 / torch.einsum(\"ij, jk, ik -> i\",\n",
    "        struc_llfeats,\n",
    "        mace_llpr.inv_covariance,\n",
    "        struc_llfeats,\n",
    "    )\n",
    "\n",
    "    PRs.append(cur_PR)   \n",
    "    "
   ]
  },
  {
   "cell_type": "code",
   "execution_count": null,
   "metadata": {},
   "outputs": [],
   "source": [
    "np.savez(\"50_results_testPR.npz\",\n",
    "         test_PRs = torch.hstack(PRs).detach().cpu().numpy(),\n",
    "        )"
   ]
  },
  {
   "cell_type": "code",
   "execution_count": null,
   "metadata": {},
   "outputs": [],
   "source": [
    "torch.save(mace_llpr, '50_0/CG_water_cov.model')"
   ]
  },
  {
   "cell_type": "code",
   "execution_count": null,
   "metadata": {},
   "outputs": [],
   "source": [
    "mace_llpr = torch.load('50_0/CG_water_cov.model').to('cuda')"
   ]
  },
  {
   "cell_type": "code",
   "execution_count": null,
   "metadata": {},
   "outputs": [],
   "source": [
    "from mace.tools.scripts_utils import get_dataset_from_xyz\n",
    "collections2, atomic_energies_dict2 = get_dataset_from_xyz(\n",
    "    train_path=\"50_0/test.xyz\",\n",
    "    valid_path=\"50_0/CG_water_test_1k.xyz\",\n",
    "    test_path=\"50_0/CG_water_train_50_0.xyz\",\n",
    "    valid_fraction=0,\n",
    "    config_type_weights=config_type_weights,\n",
    ")"
   ]
  },
  {
   "cell_type": "code",
   "execution_count": null,
   "metadata": {},
   "outputs": [],
   "source": [
    "traj_loader = torch_geometric.dataloader.DataLoader(\n",
    "    dataset=[\n",
    "        data.AtomicData.from_config(config, z_table=z_table, cutoff=stats['r_max'])\n",
    "        for config in collections2.train\n",
    "    ],\n",
    "    batch_size=1,\n",
    "    shuffle=False,\n",
    "    drop_last=False,\n",
    ")"
   ]
  },
  {
   "cell_type": "code",
   "execution_count": null,
   "metadata": {},
   "outputs": [],
   "source": [
    "import tqdm\n",
    "traj_PRs = []\n",
    "traj_LPRs = []\n",
    "for batch in tqdm.tqdm(traj_loader):\n",
    "    batch.to(mace_llpr.covariance.device)\n",
    "    cur_llfeats = mace_llpr(batch, save_atomic_llfeats = True)['atomic_llfeats']\n",
    "\n",
    "    cur_LPRs = 1 / torch.einsum(\"ij, jk, ik -> i\",\n",
    "        cur_llfeats,\n",
    "        mace_llpr.inv_covariance,\n",
    "        cur_llfeats,\n",
    "    )\n",
    "\n",
    "    traj_LPRs.append(cur_LPRs)\n",
    "\n",
    "    struc_llfeats = cur_llfeats.mean(dim=0).unsqueeze(0)\n",
    "\n",
    "    cur_PR = 1 / torch.einsum(\"ij, jk, ik -> i\",\n",
    "        struc_llfeats,\n",
    "        mace_llpr.inv_covariance,\n",
    "        struc_llfeats,\n",
    "    )\n",
    "\n",
    "    traj_PRs.append(cur_PR)\n",
    "    "
   ]
  },
  {
   "cell_type": "code",
   "execution_count": null,
   "metadata": {},
   "outputs": [],
   "source": [
    "np.savez(\"50_results_trajPR.npz\",\n",
    "         traj_PRs = torch.hstack(traj_PRs).detach().cpu().numpy(),\n",
    "        )"
   ]
  }
 ],
 "metadata": {
  "kernelspec": {
   "display_name": "Python 3 (ipykernel)",
   "language": "python",
   "name": "python3"
  },
  "language_info": {
   "codemirror_mode": {
    "name": "ipython",
    "version": 3
   },
   "file_extension": ".py",
   "mimetype": "text/x-python",
   "name": "python",
   "nbconvert_exporter": "python",
   "pygments_lexer": "ipython3",
   "version": "3.10.4"
  }
 },
 "nbformat": 4,
 "nbformat_minor": 4
}
