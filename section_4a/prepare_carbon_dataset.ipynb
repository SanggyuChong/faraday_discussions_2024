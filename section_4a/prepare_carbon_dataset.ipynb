{
 "cells": [
  {
   "cell_type": "markdown",
   "metadata": {},
   "source": [
    "### Download and preprocess the carbon dataset"
   ]
  },
  {
   "cell_type": "code",
   "execution_count": 1,
   "metadata": {},
   "outputs": [],
   "source": [
    "import os\n",
    "import ase.io\n",
    "\n",
    "import random\n",
    "import matplotlib.pyplot as plt"
   ]
  },
  {
   "cell_type": "markdown",
   "metadata": {},
   "source": [
    "### Obtain amorphous carbon dataset"
   ]
  },
  {
   "cell_type": "code",
   "execution_count": 2,
   "metadata": {},
   "outputs": [],
   "source": [
    "\n",
    "os.system(\"wget https://www.repository.cam.ac.uk/bitstreams/8834f03c-6fc9-46af-aeff-1b2517bf8f2d/download -O carbon.tar.gz\")\n",
    "os.system(\"mkdir carbon_structures\")\n",
    "os.system(\"tar -xvzf carbon.tar.gz -C carbon_structures\")\n",
    "\n",
    "train = ase.io.read(\"/home/chong/LPR_files/datasets/E_F_tests/train_das/split_train_initial.xyz\", \":\")\n",
    "test = ase.io.read(\"/home/chong/LPR_files/datasets/E_F_tests/test_das/split_test.xyz\", \":\")\n",
    "\n",
    "bulk_amo = []\n",
    "surf_amo = []\n",
    "\n",
    "for f in train + test:\n",
    "\n",
    "    if f.info[\"config_type\"] == \"bulk_amo\":\n",
    "        bulk_amo.append(f)\n",
    "    elif f.info[\"config_type\"] == \"surf_amo\":\n",
    "        surf_amo.append(f)\n"
   ]
  },
  {
   "cell_type": "code",
   "execution_count": 4,
   "metadata": {},
   "outputs": [],
   "source": [
    "random.seed(20240403)\n",
    "random.shuffle(bulk_amo)\n",
    "random.shuffle(surf_amo)"
   ]
  },
  {
   "cell_type": "code",
   "execution_count": 5,
   "metadata": {},
   "outputs": [],
   "source": [
    "densities = []\n",
    "for f in bulk_amo:\n",
    "    cur_rho = sum(f.get_masses()) * 1.66 * 1e-24 / (f.get_volume() * 1e-24)\n",
    "    densities.append(cur_rho)"
   ]
  },
  {
   "cell_type": "code",
   "execution_count": 10,
   "metadata": {},
   "outputs": [],
   "source": [
    "highdens = []\n",
    "rest = []\n",
    "lowdens = []\n",
    "for i, rho in enumerate(densities):\n",
    "    if rho > 3.00:\n",
    "        highdens.append(bulk_amo[i])\n",
    "    else:\n",
    "        if rho < 2.0:\n",
    "            lowdens.append(bulk_amo[i])\n",
    "        rest.append(bulk_amo[i])\n"
   ]
  },
  {
   "cell_type": "code",
   "execution_count": 8,
   "metadata": {},
   "outputs": [],
   "source": [
    "\n",
    "if 'datasets' not in os.listdir('.'):\n",
    "    os.system(\"mkdir datasets\")\n",
    "\n",
    "ase.io.write(\"C_highdens.xyz\", highdens)\n",
    "ase.io.write(\"C_alldens.xyz\", rest[:1000])\n",
    "ase.io.write(\"C_lowdens.xyz\", lowdens)\n",
    "ase.io.write(\"C_surfamo.xyz\", surf_amo[:50])"
   ]
  }
 ],
 "metadata": {
  "kernelspec": {
   "display_name": "farad",
   "language": "python",
   "name": "python3"
  },
  "language_info": {
   "codemirror_mode": {
    "name": "ipython",
    "version": 3
   },
   "file_extension": ".py",
   "mimetype": "text/x-python",
   "name": "python",
   "nbconvert_exporter": "python",
   "pygments_lexer": "ipython3",
   "version": "3.12.2"
  }
 },
 "nbformat": 4,
 "nbformat_minor": 2
}
