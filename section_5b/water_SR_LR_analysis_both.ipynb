{
  "cells": [
    {
      "cell_type": "code",
      "execution_count": 1,
      "metadata": {
        "collapsed": false
      },
      "outputs": [],
      "source": [
        "from ase.io import read\n",
        "\n",
        "import matplotlib.pyplot as plt\n",
        "import numpy as np\n",
        "\n",
        "import random\n",
        "\n",
        "import metatensor as mts\n",
        "from metatensor import Labels\n",
        "\n",
        "from rascaline import SoapPowerSpectrum, LodeSphericalExpansion, SphericalExpansion\n",
        "from rascaline.utils import MonomialBasis, LodeDensity, LodeSpliner, SoapSpliner, DensityCorrelations\n"
      ]
    },
    {
      "cell_type": "markdown",
      "metadata": {},
      "source": [
        "### utility functions"
      ]
    },
    {
      "cell_type": "code",
      "execution_count": 2,
      "metadata": {},
      "outputs": [],
      "source": [
        "\n",
        "def train_model(X_struc, E_struc, alpha):\n",
        "\n",
        "    ## get Cov matrix\n",
        "    XX = X_struc.T @ X_struc\n",
        "\n",
        "    ## add diagonal regularization matrix of the smoothness prior multiplied by alpha,\n",
        "    ## then also with body-order dependent beta*exp(nu)\n",
        "    reg_mat = np.eye(XX.shape[0]) * alpha\n",
        "    Xprime = XX + reg_mat\n",
        "    Xinv = np.linalg.inv(Xprime)\n",
        "\n",
        "    E_mean = E_struc.mean()\n",
        "    Y = X_struc.T @ (E_struc - E_mean)\n",
        "    \n",
        "    weights = Xinv @ Y\n",
        "        \n",
        "    return weights, E_mean\n",
        "\n",
        "\n",
        "def predict_compwise(X_struc, weights, E_mean, comp_dims):\n",
        "\n",
        "    raw_E = X_struc @ weights\n",
        "    tot_pred = raw_E + E_mean\n",
        "    \n",
        "    cw_preds = np.zeros((len(comp_dims), len(X_struc)))\n",
        "    comp_idxs = np.cumsum(np.array([0] + comp_dims))\n",
        "\n",
        "    for ci in range(len(comp_dims)):\n",
        "        cur_mask = np.zeros(np.array(comp_dims).sum())\n",
        "        cur_mask[comp_idxs[ci]:comp_idxs[ci+1]] += np.ones(comp_dims[ci])\n",
        "        masked_weights = weights * cur_mask\n",
        "        cw_preds[ci] = X_struc @ masked_weights + E_mean\n",
        "\n",
        "    return tot_pred, cw_preds\n"
      ]
    },
    {
      "cell_type": "code",
      "execution_count": 3,
      "metadata": {},
      "outputs": [],
      "source": [
        "def calculate_CPR(\n",
        "    train_struc_feats,\n",
        "    test_struc_feats,\n",
        "    alpha,\n",
        "    comp_dims,\n",
        "):\n",
        "    \n",
        "    X_struc_train = train_struc_feats\n",
        "    X_struc_test = test_struc_feats\n",
        "        \n",
        "    XX = X_struc_train.T @ X_struc_train\n",
        "    reg_mat = (np.eye(XX.shape[0])) * alpha\n",
        "    Xprime = XX + reg_mat\n",
        "\n",
        "    Xinv = np.linalg.inv(Xprime)\n",
        "\n",
        "    CPR = np.zeros((len(comp_dims), len(X_struc_test)))\n",
        "\n",
        "    comp_idxs = np.cumsum(np.array([0] + comp_dims))\n",
        "    \n",
        "    for ci in range(len(comp_dims)):\n",
        "        cur_mask = np.zeros(np.array(comp_dims).sum())\n",
        "        cur_mask[comp_idxs[ci]:comp_idxs[ci+1]] += np.ones(comp_dims[ci])\n",
        "        X_struc_test_cur = X_struc_test * cur_mask\n",
        "        CPR[ci] = 1 / np.einsum(\"ij, jk, ik -> i\", X_struc_test_cur, Xinv, X_struc_test_cur)\n",
        "    \n",
        "    return CPR\n"
      ]
    },
    {
      "cell_type": "markdown",
      "metadata": {},
      "source": [
        "### load water datasets"
      ]
    },
    {
      "cell_type": "code",
      "execution_count": 4,
      "metadata": {
        "collapsed": false
      },
      "outputs": [],
      "source": [
        "monomers = read(\"datasets/sel_large_monomers.xyz\", \":\")\n",
        "dimers = read(\"datasets/sel_large_dimers.xyz\", \":\")\n",
        "\n",
        "OO_dist = np.array([f.get_distance(0, 3) for f in dimers])\n",
        "dimers = [dimers[ii] for ii in OO_dist.argsort()]"
      ]
    },
    {
      "cell_type": "code",
      "execution_count": 5,
      "metadata": {},
      "outputs": [],
      "source": [
        "monomer_E = np.array([f.info['energy']/len(f) for f in monomers])\n",
        "dimer_E = np.array([f.info['energy']/len(f) for f in dimers])"
      ]
    },
    {
      "cell_type": "markdown",
      "metadata": {},
      "source": [
        "### compute SOAP Powerspectrum"
      ]
    },
    {
      "cell_type": "code",
      "execution_count": 6,
      "metadata": {},
      "outputs": [],
      "source": [
        "\n",
        "HYPER_PARAMETERS = {\n",
        "    \"cutoff\": 2.8,\n",
        "    \"max_radial\": 4,\n",
        "    \"max_angular\": 3,\n",
        "    \"atomic_gaussian_width\": 0.3,\n",
        "    \"center_atom_weight\": 1.0,\n",
        "    \"radial_basis\": {\n",
        "        \"Gto\": {},\n",
        "    },\n",
        "    \"cutoff_function\": {\n",
        "        \"ShiftedCosine\": {\"width\": 0.25},\n",
        "    },\n",
        "}\n",
        "\n",
        "soap_calculator = SoapPowerSpectrum(**HYPER_PARAMETERS)"
      ]
    },
    {
      "cell_type": "code",
      "execution_count": 7,
      "metadata": {},
      "outputs": [],
      "source": [
        "monomer_SOAP = soap_calculator.compute(monomers).keys_to_properties(['neighbor_1_type', 'neighbor_2_type', 'center_type'])\n",
        "dimer_SOAP = soap_calculator.compute(dimers).keys_to_properties(['neighbor_1_type', 'neighbor_2_type', 'center_type'])"
      ]
    },
    {
      "cell_type": "markdown",
      "metadata": {},
      "source": [
        "### compute LODE Powerspectrum"
      ]
    },
    {
      "cell_type": "code",
      "execution_count": 8,
      "metadata": {
        "collapsed": false
      },
      "outputs": [],
      "source": [
        "cutoff = 2.8\n",
        "potential_exponent = 3\n",
        "max_radial = 4\n",
        "max_angular = 3\n",
        "atomic_gaussian_width = 1.2\n",
        "center_atom_weight = 1.0\n",
        "spline_accuracy = 1e-10"
      ]
    },
    {
      "cell_type": "code",
      "execution_count": 9,
      "metadata": {
        "collapsed": false
      },
      "outputs": [],
      "source": [
        "basis = MonomialBasis(cutoff=cutoff)\n",
        "\n",
        "density = LodeDensity(\n",
        "    atomic_gaussian_width=atomic_gaussian_width,\n",
        "    potential_exponent=potential_exponent,\n",
        ")\n",
        "rs_splines = SoapSpliner(\n",
        "    cutoff=cutoff,\n",
        "    max_radial=max_radial,\n",
        "    max_angular=max_angular,\n",
        "    basis=basis,\n",
        "    density=density,\n",
        "    accuracy=spline_accuracy,\n",
        ").compute()\n",
        "\n",
        "# Usually this value for `k_cutoff` gives good convergences for the k-space version\n",
        "k_cutoff = 1.2 * np.pi / atomic_gaussian_width\n",
        "\n",
        "# Fourier space splines\n",
        "fs_splines = LodeSpliner(\n",
        "    k_cutoff=k_cutoff,\n",
        "    max_radial=max_radial,\n",
        "    max_angular=max_angular,\n",
        "    basis=basis,\n",
        "    density=density,\n",
        "    accuracy=spline_accuracy,\n",
        ").compute()\n",
        "\n",
        "rs_lode_calc = SphericalExpansion(\n",
        "    cutoff=cutoff,\n",
        "    max_radial=max_radial,\n",
        "    max_angular=max_angular,\n",
        "    atomic_gaussian_width=atomic_gaussian_width,\n",
        "    radial_basis=rs_splines,\n",
        "    center_atom_weight=center_atom_weight,\n",
        "    cutoff_function={\"Step\": {}},\n",
        ")\n",
        "\n",
        "fs_lode_calc = LodeSphericalExpansion(\n",
        "    cutoff=cutoff,\n",
        "    max_radial=max_radial,\n",
        "    max_angular=max_angular,\n",
        "    atomic_gaussian_width=atomic_gaussian_width,\n",
        "    center_atom_weight=center_atom_weight,\n",
        "    potential_exponent=potential_exponent,\n",
        "    radial_basis=fs_splines,\n",
        "    k_cutoff=k_cutoff,\n",
        ")"
      ]
    },
    {
      "cell_type": "code",
      "execution_count": 10,
      "metadata": {
        "collapsed": false
      },
      "outputs": [],
      "source": [
        "monomer_fs_lode_sphex = fs_lode_calc.compute(monomers)\n",
        "monomer_rs_lode_sphex = rs_lode_calc.compute(monomers)\n",
        "\n",
        "dimer_fs_lode_sphex = fs_lode_calc.compute(dimers)\n",
        "dimer_rs_lode_sphex = rs_lode_calc.compute(dimers)"
      ]
    },
    {
      "cell_type": "code",
      "execution_count": 11,
      "metadata": {
        "collapsed": false
      },
      "outputs": [],
      "source": [
        "monomer_subtracted_lode_sphex = monomer_fs_lode_sphex - monomer_rs_lode_sphex\n",
        "dimer_subtracted_lode_sphex = dimer_fs_lode_sphex - dimer_rs_lode_sphex"
      ]
    },
    {
      "cell_type": "code",
      "execution_count": 12,
      "metadata": {},
      "outputs": [],
      "source": [
        "# Get power spectrum of farLODE\n",
        "cg_hypers = {\n",
        "    \"correlation_order\": 2,\n",
        "    \"max_angular\": max_angular * 2, \n",
        "    # important for memory consumption if target correlation order or starting l values are high\n",
        "    \"angular_cutoff\": None,\n",
        "    # We only want invariants with even inversion parity\n",
        "    \"selected_keys\": Labels(\n",
        "        names=[\"o3_lambda\", \"o3_sigma\"],\n",
        "        values=np.array([[0, 1]]), #\n",
        "    ),\n",
        "    \"skip_redundant\": True,\n",
        "    \"output_selection\": None,\n",
        "    \"arrays_backend\": None,\n",
        "    \"cg_backend\": None,\n",
        "}\n",
        "\n",
        "density_correlator = DensityCorrelations(**cg_hypers)"
      ]
    },
    {
      "cell_type": "code",
      "execution_count": 13,
      "metadata": {},
      "outputs": [],
      "source": [
        "monomer_fs_lode_ps = density_correlator.compute(monomer_fs_lode_sphex).keys_to_properties(['o3_lambda', 'o3_sigma', 'center_type']).components_to_properties(['o3_mu'])\n",
        "monomer_pure_lode_ps = density_correlator.compute(monomer_subtracted_lode_sphex).keys_to_properties(['o3_lambda', 'o3_sigma', 'center_type']).components_to_properties(['o3_mu'])\n",
        "\n",
        "dimer_fs_lode_ps = density_correlator.compute(dimer_fs_lode_sphex).keys_to_properties(['o3_lambda', 'o3_sigma', 'center_type']).components_to_properties(['o3_mu'])\n",
        "dimer_pure_lode_ps = density_correlator.compute(dimer_subtracted_lode_sphex).keys_to_properties(['o3_lambda', 'o3_sigma', 'center_type']).components_to_properties(['o3_mu'])"
      ]
    },
    {
      "cell_type": "markdown",
      "metadata": {},
      "source": [
        "### join tensormaps for the final descriptor sets"
      ]
    },
    {
      "cell_type": "code",
      "execution_count": 14,
      "metadata": {},
      "outputs": [],
      "source": [
        "monomer_orig_LODE = mts.join([monomer_SOAP, monomer_fs_lode_ps], axis='properties')\n",
        "monomer_pure_LODE = mts.join([monomer_SOAP, monomer_pure_lode_ps], axis='properties')\n",
        "\n",
        "dimer_orig_LODE = mts.join([dimer_SOAP, dimer_fs_lode_ps], axis='properties')\n",
        "dimer_pure_LODE = mts.join([dimer_SOAP, dimer_pure_lode_ps], axis='properties')\n",
        "\n",
        "comp_dims = [384, 512]\n",
        "comp_idxs = np.cumsum(np.array([0] + comp_dims))"
      ]
    },
    {
      "cell_type": "markdown",
      "metadata": {},
      "source": [
        "### CASE 1: dimer + monomer with original LODE"
      ]
    },
    {
      "cell_type": "code",
      "execution_count": 15,
      "metadata": {},
      "outputs": [],
      "source": [
        "X_bef = np.array(dimer_orig_LODE.block().values)\n",
        "X_struc_bef = np.array(mts.mean_over_samples(dimer_orig_LODE, sample_names=\"atom\").block().values)\n",
        "E_bef = dimer_E\n",
        "\n",
        "X_aft = np.vstack([X_bef[:50], np.array(monomer_orig_LODE.block().values)[:50]])\n",
        "X_struc_aft = np.vstack([X_struc_bef[:50], np.array(mts.mean_over_samples(monomer_orig_LODE, sample_names=\"atom\").block().values[:50])])\n",
        "E_aft = np.hstack([dimer_E[:50], monomer_E[:50]])\n",
        "\n",
        "X_struc_dimer = np.array(mts.mean_over_samples(dimer_orig_LODE, sample_names=\"atom\").block().values)\n",
        "X_struc_monomer = np.array(mts.mean_over_samples(monomer_orig_LODE, sample_names=\"atom\").block().values)"
      ]
    },
    {
      "cell_type": "code",
      "execution_count": 16,
      "metadata": {},
      "outputs": [],
      "source": [
        "alpha = 1e-11\n",
        "\n",
        "E_dims = []\n",
        "E_mons = []\n",
        "\n",
        "sizes = [5, 10, 20, 50, 100]\n",
        "for size in [5, 10, 20, 50, 100]:\n",
        "    weights_bef, E_mean_bef = train_model(X_struc_bef[:size], E_bef[:size], alpha)\n",
        "    E_dim_bef, E_dim_cw_bef = predict_compwise(X_struc_dimer, weights_bef, E_mean_bef, comp_dims)\n",
        "    E_mon_bef, E_mon_cw_bef = predict_compwise(X_struc_monomer, weights_bef, E_mean_bef, comp_dims)\n",
        "    \n",
        "    E_mons.append(E_mon_bef)\n",
        "    E_dims.append(E_dim_bef)\n"
      ]
    },
    {
      "cell_type": "code",
      "execution_count": 19,
      "metadata": {},
      "outputs": [],
      "source": [
        "CPRs_dirty = []\n",
        "for size in [5, 10, 20, 50, 100]:\n",
        "    CPRs_dirty.append(calculate_CPR(X_struc_bef[:size], X_struc_dimer, alpha, comp_dims))\n",
        "    \n",
        "CPRs_dirty = np.array(CPRs_dirty)\n"
      ]
    },
    {
      "cell_type": "markdown",
      "metadata": {},
      "source": [
        "### CASE 2: dimer + monomer with farLODE"
      ]
    },
    {
      "cell_type": "code",
      "execution_count": 21,
      "metadata": {},
      "outputs": [],
      "source": [
        "X_bef = np.array(dimer_pure_LODE.block().values)\n",
        "X_struc_bef = np.array(mts.mean_over_samples(dimer_pure_LODE, sample_names=\"atom\").block().values)\n",
        "E_bef = dimer_E\n",
        "\n",
        "X_aft = np.vstack([X_bef[:90], np.array(monomer_pure_LODE.block().values)[:10]])\n",
        "X_struc_aft = np.vstack([X_struc_bef[:90], np.array(mts.mean_over_samples(monomer_pure_LODE, sample_names=\"atom\").block().values)[:10]])\n",
        "E_aft = np.hstack([dimer_E[:90], monomer_E[:10]])\n",
        "\n",
        "X_struc_dimer = np.array(mts.mean_over_samples(dimer_pure_LODE, sample_names=\"atom\").block().values)\n",
        "X_struc_monomer = np.array(mts.mean_over_samples(monomer_pure_LODE, sample_names=\"atom\").block().values)"
      ]
    },
    {
      "cell_type": "code",
      "execution_count": 22,
      "metadata": {},
      "outputs": [],
      "source": [
        "alpha = 1e-11\n",
        "\n",
        "E_dims_pure = []\n",
        "E_mons_pure = []\n",
        "\n",
        "for size in [5, 10, 20, 50, 100]:\n",
        "    weights_bef, E_mean_bef = train_model(X_struc_bef[:size], E_bef[:size], alpha)\n",
        "    E_dim_bef, E_dim_cw_bef = predict_compwise(X_struc_dimer, weights_bef, E_mean_bef, comp_dims)\n",
        "    E_mon_bef, E_mon_cw_bef = predict_compwise(X_struc_monomer, weights_bef, E_mean_bef, comp_dims)\n",
        "    \n",
        "    E_mons_pure.append(E_mon_bef)\n",
        "    E_dims_pure.append(E_dim_bef)\n"
      ]
    },
    {
      "cell_type": "code",
      "execution_count": 25,
      "metadata": {},
      "outputs": [],
      "source": [
        "CPRs_pure = []\n",
        "for size in [5, 10, 20, 50, 100]:\n",
        "    CPRs_pure.append(calculate_CPR(X_struc_bef[:size], X_struc_dimer, alpha, comp_dims))\n",
        "    \n",
        "CPRs_pure = np.array(CPRs_pure)\n"
      ]
    },
    {
      "cell_type": "code",
      "execution_count": 29,
      "metadata": {},
      "outputs": [],
      "source": [
        "np.savez(\"water_results.npz\",\n",
        "         monomer_E = monomer_E,\n",
        "         dimer_E = dimer_E,\n",
        "         dirty_mon_E = E_mons,\n",
        "         dirty_dim_E = E_dims,\n",
        "         pure_mon_E = E_mons_pure,\n",
        "         pure_dim_E = E_dims_pure,\n",
        "         num_configs = sizes,\n",
        "         CPRs_dirty = CPRs_dirty,\n",
        "         CPRs_pure = CPRs_pure)\n",
        "         "
      ]
    }
  ],
  "metadata": {
    "kernelspec": {
      "display_name": "Python 3",
      "language": "python",
      "name": "python3"
    },
    "language_info": {
      "codemirror_mode": {
        "name": "ipython",
        "version": 3
      },
      "file_extension": ".py",
      "mimetype": "text/x-python",
      "name": "python",
      "nbconvert_exporter": "python",
      "pygments_lexer": "ipython3",
      "version": "3.12.2"
    }
  },
  "nbformat": 4,
  "nbformat_minor": 0
}
