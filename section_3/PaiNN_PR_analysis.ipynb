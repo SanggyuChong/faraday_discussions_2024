{
 "cells": [
  {
   "cell_type": "markdown",
   "id": "63238156",
   "metadata": {},
   "source": [
    "## Prediction rigidity calculation script for SchNet/PaiNN\n",
    "\n",
    "IMPORTANT TO INSTALL AND USE THE SCHNETPACK VERSION AVAILABLE HERE:\n",
    "<https://github.com/SanggyuChong/schnetpack/tree/LLPR>"
   ]
  },
  {
   "cell_type": "code",
   "execution_count": null,
   "id": "24e87f48-45b3-44e3-ac99-7491775de885",
   "metadata": {},
   "outputs": [],
   "source": [
    "import os\n",
    "import schnetpack as spk\n",
    "from schnetpack.datasets import AtomsDataModule\n",
    "import schnetpack.transform as trn\n",
    "\n",
    "import torch\n",
    "import torchmetrics\n",
    "import pytorch_lightning as pl\n",
    "\n",
    "from schnetpack.utils.llpr import calibrate_llpr_params\n",
    "\n",
    "import numpy as np\n",
    "import tqdm\n",
    "\n",
    "import matplotlib.pyplot as plt"
   ]
  },
  {
   "cell_type": "markdown",
   "id": "d7da3f02",
   "metadata": {},
   "source": [
    "### load datasets"
   ]
  },
  {
   "cell_type": "code",
   "execution_count": null,
   "id": "d8a14f07-31a5-4b04-b26f-47e19d17344c",
   "metadata": {},
   "outputs": [],
   "source": [
    "qm9data = AtomsDataModule(\n",
    "    datapath = \"data.db\", ## training set data should already be processed according to schnetpack formalism\n",
    "    batch_size = 100,\n",
    "    transforms=[\n",
    "        trn.ASENeighborList(cutoff=5.),\n",
    "        trn.CastTo32()\n",
    "    ],\n",
    "    split_file = \"PaiNN/split.npz\",\n",
    "    pin_memory=False, # set to false, when not using a GPU    \n",
    "    load_properties = [\"energy\"],\n",
    ")\n",
    "qm9data.prepare_data()\n",
    "qm9data.setup()"
   ]
  },
  {
   "cell_type": "code",
   "execution_count": null,
   "id": "e9834bbd-5de1-41fb-a41f-7efe7a765e18",
   "metadata": {},
   "outputs": [],
   "source": [
    "qm9test = AtomsDataModule(\n",
    "    datapath = \"test_data.db\", ## test set data should already be processed according to schnetpack formalism\n",
    "    batch_size = 100,\n",
    "    num_train = 1,\n",
    "    num_val = 1,\n",
    "    num_test = 5000,\n",
    "    transforms=[\n",
    "        trn.ASENeighborList(cutoff=5.),\n",
    "        trn.CastTo32()\n",
    "    ],\n",
    "    pin_memory=False,\n",
    "    load_properties = [\"energy\"],\n",
    ")\n",
    "qm9test.prepare_data()\n",
    "qm9test.setup()"
   ]
  },
  {
   "cell_type": "markdown",
   "id": "502ac421",
   "metadata": {},
   "source": [
    "### load PaiNN model"
   ]
  },
  {
   "cell_type": "code",
   "execution_count": null,
   "id": "d4392838-342e-40df-b241-d66d25827869",
   "metadata": {},
   "outputs": [],
   "source": [
    "best_model = torch.load(\"best_model\", map_location='cpu') ## modify model filename as needed \n",
    "llpr_model = spk.model.LLPredRigidityNNP(best_model, save_ll_feat_per_atom=True)"
   ]
  },
  {
   "cell_type": "markdown",
   "id": "772dbf1b",
   "metadata": {},
   "source": [
    "### compute covariance and inv covariance on original training set"
   ]
  },
  {
   "cell_type": "code",
   "execution_count": null,
   "id": "ed32a43e-5a78-4cbf-a72d-a6c10643a022",
   "metadata": {},
   "outputs": [],
   "source": [
    "weight_dict = {'E': 1, 'F': 0, 'S': 0}\n",
    "llpr_model.compute_covariance(qm9data.train_dataloader(), weights=weight_dict)"
   ]
  },
  {
   "cell_type": "code",
   "execution_count": null,
   "id": "01d905a0-ec4d-4367-98cc-067a9eb88b37",
   "metadata": {},
   "outputs": [],
   "source": [
    "llpr_model.compute_inv_covariance(1, 5e-6)"
   ]
  },
  {
   "cell_type": "markdown",
   "id": "5ef6a3d7",
   "metadata": {},
   "source": [
    "### obtain last-layer features for test set"
   ]
  },
  {
   "cell_type": "code",
   "execution_count": null,
   "id": "0feb4673-0987-4e3e-9d29-d9fa8e3809b6",
   "metadata": {},
   "outputs": [],
   "source": [
    "\n",
    "pred_ll_feats = []\n",
    "pred_ll_feats_per_atom = []\n",
    "\n",
    "for batch in tqdm.tqdm(qm9test.test_dataloader()):\n",
    "    outputs = llpr_model(batch)\n",
    "    pred_ll_feats.append(outputs['ll_feats'].detach())\n",
    "    pred_ll_feats_per_atom.append(outputs['ll_feats_per_atom'].detach())    \n",
    "\n",
    "pred_ll_feats = torch.vstack(pred_ll_feats)\n",
    "pred_ll_feats_per_atom = torch.vstack(pred_ll_feats_per_atom)"
   ]
  },
  {
   "cell_type": "markdown",
   "id": "846a881b-94fe-4e89-9458-2f478b1cb568",
   "metadata": {},
   "source": [
    "### compute (L)PR"
   ]
  },
  {
   "cell_type": "code",
   "execution_count": null,
   "id": "dbc5e3a6-8d02-4ff7-aaf9-301e41d73f4b",
   "metadata": {},
   "outputs": [],
   "source": [
    "test_pr = 1 / torch.einsum(\n",
    "    \"ij, jk, ik -> i\",\n",
    "    pred_ll_feats,\n",
    "    llpr_model.inv_covariance,\n",
    "    pred_ll_feats,\n",
    ")"
   ]
  },
  {
   "cell_type": "code",
   "execution_count": null,
   "id": "4aa331e3-e34f-4439-a318-599c1b2a8483",
   "metadata": {},
   "outputs": [],
   "source": [
    "test_lpr = 1 / torch.einsum(\n",
    "    \"ij, jk, ik -> i\",\n",
    "    pred_ll_feats_per_atom,\n",
    "    llpr_model.inv_covariance,\n",
    "    pred_ll_feats_per_atom,\n",
    ")"
   ]
  }
 ],
 "metadata": {
  "kernelspec": {
   "display_name": "Python 3 (ipykernel)",
   "language": "python",
   "name": "python3"
  },
  "language_info": {
   "codemirror_mode": {
    "name": "ipython",
    "version": 3
   },
   "file_extension": ".py",
   "mimetype": "text/x-python",
   "name": "python",
   "nbconvert_exporter": "python",
   "pygments_lexer": "ipython3",
   "version": "3.10.4"
  }
 },
 "nbformat": 4,
 "nbformat_minor": 5
}
