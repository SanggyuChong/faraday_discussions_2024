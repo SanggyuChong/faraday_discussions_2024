{
 "cells": [
  {
   "cell_type": "markdown",
   "id": "e1bac4bd",
   "metadata": {},
   "source": [
    "## Jupyter notebook to generate silicon clusters with roughly the same density between different ``n-mers''"
   ]
  },
  {
   "cell_type": "code",
   "execution_count": null,
   "id": "0e58c7f3-4d86-457e-981a-20b3429a7723",
   "metadata": {},
   "outputs": [],
   "source": [
    "import numpy as np\n",
    "import ase\n",
    "\n",
    "from skmatter.sample_selection import FPS\n",
    "from tqdm.notebook import tqdm\n",
    "from ase.io import read, write"
   ]
  },
  {
   "cell_type": "markdown",
   "id": "34de483c",
   "metadata": {},
   "source": [
    "### utility functions"
   ]
  },
  {
   "cell_type": "code",
   "execution_count": null,
   "id": "4a2be268-e30b-45a3-a3b8-0b443be65c6d",
   "metadata": {},
   "outputs": [],
   "source": [
    "def get_growvec(rmin, rmax):\n",
    "    \n",
    "    phi = np.random.uniform(0, np.pi*2)\n",
    "    costheta = np.random.uniform(-1, 1)\n",
    "    u = np.random.uniform(0,1)\n",
    "    r = rmin + np.power(u, 1/3) * (rmax - rmin)\n",
    "    \n",
    "    theta = np.arccos(costheta)\n",
    "    x = r * np.sin(theta) * np.cos(phi)\n",
    "    y = r * np.sin(theta) * np.sin(phi)\n",
    "    z = r * np.cos(theta)\n",
    "\n",
    "    return np.array([x,y,z])\n",
    "    "
   ]
  },
  {
   "cell_type": "code",
   "execution_count": null,
   "id": "d0911e52-f514-484c-a23f-5fed922fd037",
   "metadata": {},
   "outputs": [],
   "source": [
    "def min_distance(l):\n",
    "    # gets the minimum inter-particle distance in a point cloud\n",
    "    l2 = (l**2).sum(axis=1)\n",
    "    d2 = np.add.outer(l2,l2)-2*l@l.T\n",
    "    np.fill_diagonal(d2, np.inf)\n",
    "    return np.min(d2)"
   ]
  },
  {
   "cell_type": "code",
   "execution_count": null,
   "id": "63cb099d-50fb-4729-88fd-b3620b49acd1",
   "metadata": {},
   "outputs": [],
   "source": [
    "def max_distance(l):\n",
    "    # gets the minimum inter-particle distance in a point cloud\n",
    "    l2 = (l**2).sum(axis=1)\n",
    "    d2 = np.add.outer(l2,l2)-2*l@l.T\n",
    "    np.fill_diagonal(d2, 0)\n",
    "    return np.max(d2)\n",
    "    "
   ]
  },
  {
   "cell_type": "code",
   "execution_count": null,
   "id": "f94bfe18-950d-4df7-af6a-8e034d097e80",
   "metadata": {},
   "outputs": [],
   "source": [
    "\n",
    "def grow_cluster(n, bmin, bmax, bcmax, dmax):\n",
    "    \n",
    "    ## grow the cluster, place initial atom at origin\n",
    "    l = np.array([[0,0,0]])\n",
    "    cur_bc = np.array([0])\n",
    "    finished = False\n",
    "    \n",
    "    while len(l) != n:\n",
    "\n",
    "        for j in range(10):\n",
    "            try_l = np.vstack([l.copy(), l[np.random.randint(len(l))] + get_growvec(bmin, bmax)])\n",
    "            mind = min_distance(try_l)\n",
    "            maxd = max_distance(try_l)\n",
    "            cur_bcmax = ((ase.Atoms(\"Si{}\".format(len(try_l)), try_l).get_all_distances() < bmax+0.25).sum(axis=0) - 1).max()\n",
    "            \n",
    "            if mind>bmin**2 and maxd<dmax**2 and cur_bcmax <= bcmax:\n",
    "                l = try_l\n",
    "                break\n",
    "                \n",
    "            if j == 9:\n",
    "                l = np.delete(l, -1, 0)\n",
    "        \n",
    "    return l\n",
    "    "
   ]
  },
  {
   "cell_type": "code",
   "execution_count": null,
   "id": "986f39bb-3c1b-4e88-93fa-25bf7323b3ef",
   "metadata": {},
   "outputs": [],
   "source": [
    "def make_unique(cls):\n",
    "    # zeroes the center of mass\n",
    "    cls = cls - cls.mean(axis=0)\n",
    "    # first, sort according to the distance from the COM to remove permutation degeneracy\n",
    "    order = np.argsort((cls[:]**2).sum(axis=1))[::-1]\n",
    "    # and now we apply an orthogonal transformation that makes the i-th vector have all\n",
    "    # the coordinates above the i-th zero (this basically sets the rotations)\n",
    "    q,r = np.linalg.qr(cls[order].T)\n",
    "    # now set the orientation along the axes\n",
    "    for i in range(min(r.shape)):\n",
    "        r[i] *= np.sign(r[i,i])    \n",
    "    return r.T\n",
    "    "
   ]
  },
  {
   "cell_type": "markdown",
   "id": "250b5b14",
   "metadata": {},
   "source": [
    "### density consideration"
   ]
  },
  {
   "cell_type": "code",
   "execution_count": null,
   "id": "aa0470e8-2e15-4d1f-a53b-cb516fab6b43",
   "metadata": {},
   "outputs": [],
   "source": [
    "## 4.121 is the distance (not radius) at which dimer cohesive energy is at 25% of \"minimum\"\n",
    "dimer_volume = 4/3*np.pi*(4.121/2)**3"
   ]
  },
  {
   "cell_type": "code",
   "execution_count": null,
   "id": "4c9e5856-b3fd-4905-b7d1-e5b10c4795d1",
   "metadata": {},
   "outputs": [],
   "source": [
    "dimer_density = 2 / dimer_volume"
   ]
  },
  {
   "cell_type": "code",
   "execution_count": null,
   "id": "770c3ca2-d0a4-4a7c-93c5-ef9e0ccf3ffb",
   "metadata": {},
   "outputs": [],
   "source": [
    "\n",
    "body_list = np.arange(3,11)\n",
    "const_dens_radii = np.power(3/4/(np.pi)*(dimer_volume/2 * body_list), 1/3)\n"
   ]
  },
  {
   "cell_type": "markdown",
   "id": "7a6958e4",
   "metadata": {},
   "source": [
    "### cluster generation\n",
    "\n",
    "Below generates n-mers from n = 3 to 10."
   ]
  },
  {
   "cell_type": "code",
   "execution_count": null,
   "id": "5111ba14-e283-4e33-8189-0a9359aa9d0d",
   "metadata": {
    "scrolled": true
   },
   "outputs": [],
   "source": [
    "\n",
    "np.random.seed(1215)\n",
    "\n",
    "all_cls = []\n",
    "for na in range(3, 11):\n",
    "    cls = []\n",
    "    for i in tqdm(range(10000)):\n",
    "        cls.append(make_unique(grow_cluster(na, 2.0, 2.5, 6, const_dens_radii[na-3]*2.0)))\n",
    "    cls = np.asarray(cls)\n",
    "    all_cls.append(cls)\n",
    "    "
   ]
  },
  {
   "cell_type": "code",
   "execution_count": null,
   "id": "7abe258c-00c9-4a4c-8e28-3a5b4a16013d",
   "metadata": {},
   "outputs": [],
   "source": [
    "\n",
    "all_frames = []\n",
    "for ii in range(8):\n",
    "    frames = [ase.Atoms(\"Si{}\".format(ii+3), all_cls[ii][i]) for i in range(len(all_cls[ii]))]\n",
    "    for f in frames:\n",
    "        f.info['config_type'] = str(ii+3) + 'mer'\n",
    "    all_frames.append(frames)\n"
   ]
  },
  {
   "cell_type": "code",
   "execution_count": null,
   "id": "4bd72b46-41ee-4a69-adae-1ae93f9fd459",
   "metadata": {},
   "outputs": [],
   "source": [
    "\n",
    "all_sel_cls = []\n",
    "for ii in range(8):\n",
    "    selector = FPS(n_to_select=1000)\n",
    "    selector.fit(all_cls_5[ii].reshape(10000,-1))\n",
    "    all_sel_cls.append(all_cls_5[ii][selector.selected_idx_])    \n"
   ]
  },
  {
   "cell_type": "code",
   "execution_count": null,
   "id": "847b8782-14ab-4bdc-8e49-d578f5536e70",
   "metadata": {},
   "outputs": [],
   "source": [
    "\n",
    "all_sel_frames = []\n",
    "for ii in range(8):\n",
    "    frames = [ase.Atoms(\"Si{}\".format(ii+3), all_sel_cls[ii][i]) for i in range(len(all_sel_cls[ii]))]\n",
    "    for f in frames:\n",
    "        f.info['config_type'] = str(ii+3) + 'mer'    \n",
    "    all_sel_frames.append(frames)\n",
    "    write(\"Si_cluster_{}.xyz\".format(ii+3), all_sel_frames[ii])    \n"
   ]
  },
  {
   "cell_type": "code",
   "execution_count": null,
   "id": "a41fc8b2-6f3a-4d38-99f7-4930e60c09ca",
   "metadata": {},
   "outputs": [],
   "source": []
  }
 ],
 "metadata": {
  "kernelspec": {
   "display_name": "Python 3 (ipykernel)",
   "language": "python",
   "name": "python3"
  },
  "language_info": {
   "codemirror_mode": {
    "name": "ipython",
    "version": 3
   },
   "file_extension": ".py",
   "mimetype": "text/x-python",
   "name": "python",
   "nbconvert_exporter": "python",
   "pygments_lexer": "ipython3",
   "version": "3.10.10"
  }
 },
 "nbformat": 4,
 "nbformat_minor": 5
}
