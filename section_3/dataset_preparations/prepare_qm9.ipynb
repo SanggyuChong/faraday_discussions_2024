{
 "cells": [
  {
   "cell_type": "markdown",
   "metadata": {},
   "source": [
    "### Download and preprocess the QM9 dataset\n",
    "\n",
    "Code snippets courtesy of Matthias Kellner and Sergey Pozdnyakov\n",
    "\n",
    "Original code by SP found here: https://github.com/lab-cosmo/nice/blob/master/examples/qm9_small.ipynb\n",
    "\n",
    "Loading routine by MK found here: https://github.com/bananenpampe/DPOSE/blob/main/Atomistic_experiments/data/QM9/load.py"
   ]
  },
  {
   "cell_type": "code",
   "execution_count": null,
   "metadata": {},
   "outputs": [],
   "source": [
    "import os\n",
    "import tqdm\n",
    "import ase.io\n",
    "import numpy as np\n",
    "from ase import Atoms\n",
    "\n",
    "import random"
   ]
  },
  {
   "cell_type": "code",
   "execution_count": null,
   "metadata": {},
   "outputs": [],
   "source": [
    "\n",
    "PROPERTIES_NAMES = ['tag', 'index', 'A', 'B', 'C', 'mu',\n",
    "                    'alpha', 'homo', 'lumo', 'gap', 'r2',\n",
    "                    'zpve', 'U0', 'U', 'H', 'G', 'Cv']\n",
    "\n",
    "\n",
    "def string_to_float(element):\n",
    "    return float(element.replace('*^', 'e'))\n",
    "\n",
    "PROPERTIES_HANDLERS = [str, int] + [string_to_float] * (len(PROPERTIES_NAMES) - 2)\n",
    "\n",
    "def parse_qm9_xyz(path):\n",
    "    with open(path, 'r') as f:\n",
    "        lines = list(f)\n",
    "    #print(lines)\n",
    "\n",
    "    #MODIFICATION TO ADD INCHI KEY\n",
    "    inchi_ids = lines[-1].rstrip(\"\\n\").split(\"\\t\")\n",
    "\n",
    "    assert len(inchi_ids) == 2\n",
    "\n",
    "    n_atoms = int(lines[0])\n",
    "    properties = {name:handler(value)\n",
    "                  for handler, name, value in zip(PROPERTIES_HANDLERS,\n",
    "                                            PROPERTIES_NAMES,\n",
    "                                            lines[1].strip().split())}\n",
    "    composition = \"\"\n",
    "    positions = []\n",
    "    for i in range(2, 2 + n_atoms):\n",
    "        composition += lines[i].strip().split()[0]\n",
    "        positions.append([string_to_float(value) \n",
    "                          for value in lines[i].strip().split()[1:4]])\n",
    "        \n",
    "    \n",
    "    positions = np.array(positions)\n",
    "    result = Atoms(composition, positions = np.array(positions))\n",
    "    result.info.update(properties)\n",
    "    result.info['inchi_key_0'] = inchi_ids[0]\n",
    "    result.info['inchi_key_1'] = inchi_ids[1]\n",
    "\n",
    "    return result\n",
    "\n",
    "def parse_index(path):\n",
    "    with open(path, \"r\") as f:\n",
    "        lines = list(f)\n",
    "    proper_lines = lines[9:-1]\n",
    "    result = [int(line.strip().split()[0]) for line in proper_lines]\n",
    "    return np.array(result, dtype = int)\n",
    "\n",
    "def download_qm9(clean = True):\n",
    "    #downloading from https://figshare.com/collections/Quantum_chemistry_structures_and_properties_of_134_kilo_molecules/978904\n",
    "    os.system(\"wget https://ndownloader.figshare.com/files/3195389 -O qm9_main.xyz.tar.bz2\")\n",
    "    os.system(\"wget https://ndownloader.figshare.com/files/3195404 -O problematic_index.txt\")\n",
    "    os.system(\"mkdir qm9_main_structures\")\n",
    "    os.system(\"tar xjf qm9_main.xyz.tar.bz2 -C qm9_main_structures\")\n",
    "    \n",
    "    names = [name for name in os.listdir('qm9_main_structures/') if name.endswith('.xyz')]\n",
    "    names = sorted(names)\n",
    "    \n",
    "    structures = [parse_qm9_xyz('qm9_main_structures/{}'.format(name))\n",
    "              for name in tqdm.tqdm(names)]\n",
    "    \n",
    "    problematic_index = parse_index('problematic_index.txt')\n",
    "    np.save('problematic_index.npy', problematic_index)\n",
    "    ase.io.write('qm9_main.extxyz', structures)\n",
    "    if (clean):\n",
    "        os.system(\"rm -r qm9_main_structures\")\n",
    "        os.system(\"rm problematic_index.txt\")\n",
    "        os.system(\"rm qm9_main.xyz.tar.bz2\")\n",
    "    return structures, problematic_index\n",
    "              \n",
    "def get_qm9(clean = True):\n",
    "    if ('qm9_main.extxyz' in os.listdir('.')) and \\\n",
    "              ('problematic_index.npy' in os.listdir('.')):\n",
    "        structures = ase.io.read('qm9_main.extxyz', index = ':')\n",
    "        problematic_index = np.load('problematic_index.npy')\n",
    "        return structures, problematic_index\n",
    "    else:\n",
    "        return download_qm9(clean = clean)\n",
    "    \n",
    "\n",
    "def get_qm9_w_problematic(clean=True):\n",
    "    \n",
    "    structures, problematic_index = get_qm9(clean=clean)\n",
    "    \n",
    "    for structure in structures:\n",
    "        if structure.info['index'] in problematic_index:\n",
    "            structure.info['problematic'] = \"PROBLEMATIC\"\n",
    "        else:\n",
    "            structure.info['problematic'] = \"OK\"\n",
    "        \n",
    "    return structures"
   ]
  },
  {
   "cell_type": "markdown",
   "metadata": {},
   "source": [
    "### Obtain QM9 clean dataset"
   ]
  },
  {
   "cell_type": "code",
   "execution_count": null,
   "metadata": {},
   "outputs": [],
   "source": [
    "frames = get_qm9_w_problematic()\n",
    "ase.io.write(\"qm9.xyz\", frames)\n",
    "\n",
    "frames = ase.io.read(\"qm9.xyz\", index=\":\")\n",
    "\n",
    "frames_filtered = []\n",
    "frames_problematic = []\n",
    "\n",
    "for frame in frames:\n",
    "    if frame.info['problematic'] == \"OK\":\n",
    "        frames_filtered.append(frame)\n",
    "    elif frame.info['problematic'] == \"PROBLEMATIC\":\n",
    "        frames_problematic.append(frame)\n",
    "    else:\n",
    "        raise ValueError(\"problematic value not recognized\")\n",
    "\n",
    "print(\"Number of frames: \", len(frames))\n",
    "print(\"Number of filtered frames: \", len(frames_filtered))\n",
    "print(\"Number of problematic frames: \", len(frames_problematic))"
   ]
  },
  {
   "cell_type": "markdown",
   "metadata": {},
   "source": [
    "### Prepare refined datasets"
   ]
  },
  {
   "cell_type": "code",
   "execution_count": null,
   "metadata": {},
   "outputs": [],
   "source": [
    "if 'datasets' not in os.listdir('.'):\n",
    "    os.system(\"mkdir datasets\")\n",
    "\n",
    "random.seed(20240412)\n",
    "random.shuffle(frames_filtered)\n",
    "ase.io.write(\"datasets/qm9_train.xyz\", frames_filtered[:10000])\n",
    "ase.io.write(\"datasets/qm9_train100.xyz\", frames_filtered[:100])\n",
    "ase.io.write(\"datasets/qm9_train500.xyz\", frames_filtered[:500])\n",
    "ase.io.write(\"datasets/qm9_train1000.xyz\", frames_filtered[:1000])\n",
    "ase.io.write(\"datasets/qm9_train2233.xyz\", frames_filtered[:2233])\n",
    "ase.io.write(\"datasets/qm9_train5000.xyz\", frames_filtered[:5000])\n",
    "ase.io.write(\"datasets/qm9_val.xyz\", frames_filtered[10000:11000])\n",
    "ase.io.write(\"datasets/qm9_test.xyz\", frames_filtered[11000:12000])"
   ]
  },
  {
   "cell_type": "code",
   "execution_count": null,
   "metadata": {},
   "outputs": [],
   "source": [
    "for i in range(10):\n",
    "    ase.io.write(f\"datasets/qm9_train_sub{i}.xyz\", frames_filtered[:1000*(i)] + frames_filtered[1000*(i+1):10000])"
   ]
  },
  {
   "cell_type": "code",
   "execution_count": null,
   "metadata": {},
   "outputs": [],
   "source": []
  }
 ],
 "metadata": {
  "kernelspec": {
   "display_name": "farad",
   "language": "python",
   "name": "python3"
  },
  "language_info": {
   "codemirror_mode": {
    "name": "ipython",
    "version": 3
   },
   "file_extension": ".py",
   "mimetype": "text/x-python",
   "name": "python",
   "nbconvert_exporter": "python",
   "pygments_lexer": "ipython3",
   "version": "3.12.2"
  }
 },
 "nbformat": 4,
 "nbformat_minor": 2
}
