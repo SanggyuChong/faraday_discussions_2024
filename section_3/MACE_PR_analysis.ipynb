{
 "cells": [
  {
   "cell_type": "markdown",
   "metadata": {},
   "source": [
    "## Prediction rigidity calculation script for MACE\n",
    "\n",
    "IMPORTANT TO INSTALL AND USE THE MACE VERSION AVAILABLE HERE:\n",
    "<https://github.com/SanggyuChong/mace/tree/LLPR_farad>"
   ]
  },
  {
   "cell_type": "code",
   "execution_count": null,
   "metadata": {},
   "outputs": [],
   "source": [
    "import numpy as np\n",
    "import torch\n",
    "import torch.nn.functional\n",
    "\n",
    "from mace import data, modules, tools\n",
    "from mace.tools import torch_geometric\n",
    "from mace.tools.scripts_utils import get_dataset_from_xyz\n",
    "\n",
    "import matplotlib.pyplot as plt\n",
    "torch.set_default_dtype(torch.float64)\n",
    "device = tools.init_device('cuda')"
   ]
  },
  {
   "cell_type": "markdown",
   "metadata": {},
   "source": [
    "### load model"
   ]
  },
  {
   "cell_type": "code",
   "execution_count": null,
   "metadata": {},
   "outputs": [],
   "source": [
    "mace = torch.load('MACE_model.model').to('cuda')\n",
    "mace_llpr = modules.LLPRModel(mace)\n",
    "mace_llpr.to(device);"
   ]
  },
  {
   "cell_type": "code",
   "execution_count": null,
   "metadata": {},
   "outputs": [],
   "source": [
    "stats = {\"atomic_numbers\": [14],\n",
    "         \"r_max\": 5.5}\n",
    "config_type_weights = {\"Default\": 1.0}\n",
    "z_table = tools.get_atomic_number_table_from_zs(stats['atomic_numbers'])"
   ]
  },
  {
   "cell_type": "markdown",
   "metadata": {},
   "source": [
    "### load datasets"
   ]
  },
  {
   "cell_type": "code",
   "execution_count": null,
   "metadata": {},
   "outputs": [],
   "source": [
    "collections, atomic_energies_dict = get_dataset_from_xyz(\n",
    "    train_path=\"train.xyz\",\n",
    "    valid_path=\"valid.xyz\",\n",
    "    test_path=\"test.xyz\",\n",
    "    valid_fraction=0,\n",
    "    config_type_weights=config_type_weights,\n",
    "    energy_key=\"free_energy\",\n",
    ")"
   ]
  },
  {
   "cell_type": "code",
   "execution_count": null,
   "metadata": {},
   "outputs": [],
   "source": [
    "train_loader = torch_geometric.dataloader.DataLoader(\n",
    "    dataset=[\n",
    "        data.AtomicData.from_config(config, z_table=z_table, cutoff=stats['r_max'])\n",
    "        for config in collections.train\n",
    "    ],\n",
    "    batch_size=10,\n",
    "    shuffle=False,\n",
    "    drop_last=False,\n",
    ")\n",
    "\n",
    "valid_loader = torch_geometric.dataloader.DataLoader(\n",
    "    dataset=[\n",
    "        data.AtomicData.from_config(config, z_table=z_table, cutoff=stats['r_max'])\n",
    "        for config in collections.valid\n",
    "    ],\n",
    "    batch_size=10,\n",
    "    shuffle=False,\n",
    "    drop_last=False,\n",
    ")\n",
    "\n",
    "test_loader = torch_geometric.dataloader.DataLoader(\n",
    "    dataset=[\n",
    "        data.AtomicData.from_config(config, z_table=z_table, cutoff=stats['r_max'])\n",
    "        for config in collections.tests[0][1]\n",
    "    ],\n",
    "    batch_size=10,\n",
    "    shuffle=False,\n",
    "    drop_last=False,\n",
    ")"
   ]
  },
  {
   "cell_type": "markdown",
   "metadata": {},
   "source": [
    "### compute covariance and inv covariance on original training set"
   ]
  },
  {
   "cell_type": "code",
   "execution_count": null,
   "metadata": {
    "scrolled": true
   },
   "outputs": [],
   "source": [
    "mace_llpr.compute_covariance(train_loader)\n",
    "mace_llpr.compute_inv_covariance(C = 1, sigma = 5e-6)"
   ]
  },
  {
   "cell_type": "code",
   "execution_count": null,
   "metadata": {},
   "outputs": [],
   "source": [
    "\n",
    "test_PRs = []\n",
    "test_LPRs = []\n",
    "\n",
    "for batch in iter(test_loader):\n",
    "\n",
    "    batch.to(device)\n",
    "    outputs = mace_llpr(batch, save_atomic_llfeats=True)\n",
    "    \n",
    "    test_PRs.append(1 / outputs['energy_uncertainty'].cpu().detach().numpy())\n",
    "\n",
    "    ll_feats = outputs[\"atomic_llfeats\"]\n",
    "\n",
    "    cur_LPRs = 1 / torch.einsum(\n",
    "        \"ij, jk, ik -> i\",\n",
    "        ll_feats,\n",
    "        mace_llpr.inv_covariance,\n",
    "        ll_feats,\n",
    "    )\n",
    "    \n",
    "    test_LPRs.append(cur_LPRs.cpu().detach().numpy())\n",
    "    "
   ]
  },
  {
   "cell_type": "code",
   "execution_count": null,
   "metadata": {},
   "outputs": [],
   "source": [
    "test_pr = np.hstack(test_PRs)\n",
    "test_lpr = np.hstack(test_LPRs)"
   ]
  }
 ],
 "metadata": {
  "kernelspec": {
   "display_name": "Python 3 (ipykernel)",
   "language": "python",
   "name": "python3"
  },
  "language_info": {
   "codemirror_mode": {
    "name": "ipython",
    "version": 3
   },
   "file_extension": ".py",
   "mimetype": "text/x-python",
   "name": "python",
   "nbconvert_exporter": "python",
   "pygments_lexer": "ipython3",
   "version": "3.10.4"
  }
 },
 "nbformat": 4,
 "nbformat_minor": 4
}
