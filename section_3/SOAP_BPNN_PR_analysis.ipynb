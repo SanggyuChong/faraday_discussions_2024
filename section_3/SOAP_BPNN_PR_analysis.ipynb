{
 "cells": [
  {
   "cell_type": "code",
   "execution_count": null,
   "metadata": {},
   "outputs": [],
   "source": [
    "\n",
    "import torch\n",
    "import random\n",
    "from ase.io import read, write\n",
    "from datetime import datetime\n",
    "import matplotlib.pyplot as plt\n",
    "\n",
    "from metatensor.models.experimental.soap_bpnn import Model, LLPRModel\n",
    "from metatensor.torch.atomistic import ModelCapabilities, ModelOutput, systems_to_torch\n",
    "from metatensor.models.utils.neighbors_lists import get_system_with_neighbors_lists\n",
    "from metatensor.models.utils.data.readers import read_systems, read_targets\n",
    "from metatensor.learn.data import Dataset, DataLoader\n",
    "from metatensor.models.utils.output_gradient import compute_gradient\n",
    "from metatensor.torch import mean_over_samples\n",
    "\n",
    "\n",
    "from omegaconf import OmegaConf\n",
    "from ase.io import read\n",
    "import numpy as np\n",
    "\n",
    "from tqdm import tqdm\n",
    "\n",
    "cur_dtype = torch.float64\n",
    "torch.set_default_dtype(cur_dtype)"
   ]
  },
  {
   "cell_type": "markdown",
   "metadata": {},
   "source": [
    "### load metatrain SOAP-BPNN model"
   ]
  },
  {
   "cell_type": "code",
   "execution_count": null,
   "metadata": {},
   "outputs": [],
   "source": [
    "\n",
    "model = torch.jit.load(f'model.pt', map_location='cpu') ## modify model filename as needed\n",
    "llpr_model = LLPRModel(model, exported=True)\n"
   ]
  },
  {
   "cell_type": "markdown",
   "metadata": {},
   "source": [
    "### compute covariance and inv covariance on original training set"
   ]
  },
  {
   "cell_type": "code",
   "execution_count": null,
   "metadata": {},
   "outputs": [],
   "source": [
    "\n",
    "train_frames = read(\"train.xyz\", \":\") ## modify training set filename as needed\n",
    "train_systems = [systems_to_torch(f) for f in train_frames]\n",
    "\n",
    "batch_size = 100\n",
    "\n",
    "for i in tqdm(range(len(train_systems)//batch_size + 1)):\n",
    "    cur_systems = train_systems[i*batch_size:(i+1)*batch_size]\n",
    "    if len(cur_systems) == 0:\n",
    "        continue\n",
    "    llpr_model.compute_covariance(cur_systems)\n",
    "    del cur_systems\n"
   ]
  },
  {
   "cell_type": "code",
   "execution_count": null,
   "metadata": {},
   "outputs": [],
   "source": [
    "llpr_model.compute_inv_covariance(1, 5e-6)"
   ]
  },
  {
   "cell_type": "markdown",
   "metadata": {},
   "source": [
    "### obtain last-layer features for test set"
   ]
  },
  {
   "cell_type": "code",
   "execution_count": null,
   "metadata": {},
   "outputs": [],
   "source": [
    "\n",
    "llfeats = {\n",
    "    \"last_layer_features\": ModelOutput(\n",
    "        quantity=\"\",\n",
    "        unit=\"\",\n",
    "        per_atom=False, ## set this to False for PR, True for LPR\n",
    "    )\n",
    "}\n",
    "\n",
    "per_atom_llfeats = {\n",
    "    \"last_layer_features\": ModelOutput(\n",
    "        quantity=\"\",\n",
    "        unit=\"\",\n",
    "        per_atom=True, ## set this to False for PR, True for LPR\n",
    "    )\n",
    "}"
   ]
  },
  {
   "cell_type": "code",
   "execution_count": null,
   "metadata": {},
   "outputs": [],
   "source": [
    "random.seed(1215)\n",
    "test_frames = read(\"test.xyz\", \":100\") ## modify test set filename as needed\n",
    "random.shuffle(test_frames)\n",
    "test_systems = [systems_to_torch(f) for f in test_frames]\n",
    "\n",
    "test_llfeats = []\n",
    "for system in tqdm(test_systems):\n",
    "    output = llpr_model([system], llfeats)\n",
    "    test_llfeats.append(output[\"last_layer_features\"].block().values.detach())\n",
    "    \n",
    "test_llfeats = torch.vstack(test_llfeats)\n",
    "\n",
    "test_per_atom_llfeats = []\n",
    "for system in tqdm(test_systems):\n",
    "    output = llpr_model([system], per_atom_llfeats)\n",
    "    test_per_atom_llfeats.append(output[\"last_layer_features\"].block().values.detach())\n",
    "    \n",
    "test_per_atom_llfeats = torch.vstack(test_per_atom_llfeats)"
   ]
  },
  {
   "cell_type": "markdown",
   "metadata": {},
   "source": [
    "### compute (L)PR"
   ]
  },
  {
   "cell_type": "code",
   "execution_count": null,
   "metadata": {},
   "outputs": [],
   "source": [
    "test_pr = 1 / torch.einsum(\n",
    "    \"ij, jk, ik -> i\",\n",
    "    test_llfeats, \n",
    "    llpr_model.inv_covariance,\n",
    "    test_llfeats,\n",
    ")"
   ]
  },
  {
   "cell_type": "code",
   "execution_count": null,
   "metadata": {},
   "outputs": [],
   "source": [
    "test_lpr = 1 / torch.einsum(\n",
    "    \"ij, jk, ik -> i\",\n",
    "    test_per_atom_llfeats, \n",
    "    llpr_model.inv_covariance,\n",
    "    test_per_atom_llfeats,\n",
    ")"
   ]
  }
 ],
 "metadata": {
  "kernelspec": {
   "display_name": "farad",
   "language": "python",
   "name": "python3"
  },
  "language_info": {
   "codemirror_mode": {
    "name": "ipython",
    "version": 3
   },
   "file_extension": ".py",
   "mimetype": "text/x-python",
   "name": "python",
   "nbconvert_exporter": "python",
   "pygments_lexer": "ipython3",
   "version": "3.12.2"
  }
 },
 "nbformat": 4,
 "nbformat_minor": 2
}
